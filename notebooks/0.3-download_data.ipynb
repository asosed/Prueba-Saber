{
 "metadata": {
  "language_info": {
   "codemirror_mode": {
    "name": "ipython",
    "version": 3
   },
   "file_extension": ".py",
   "mimetype": "text/x-python",
   "name": "python",
   "nbconvert_exporter": "python",
   "pygments_lexer": "ipython3",
   "version": "3.9.2"
  },
  "orig_nbformat": 2,
  "kernelspec": {
   "name": "python392jvsc74a57bd0c3d5184c4b66895d208219d4d00a40650490df6cf3ed6a79c25046b559a288c9",
   "display_name": "Python 3.9.2 64-bit ('kaggle': conda)"
  }
 },
 "nbformat": 4,
 "nbformat_minor": 2,
 "cells": [
  {
   "cell_type": "code",
   "execution_count": 1,
   "metadata": {},
   "outputs": [],
   "source": [
    "%run before_to_start.ipynb"
   ]
  },
  {
   "cell_type": "code",
   "execution_count": 2,
   "metadata": {},
   "outputs": [
    {
     "output_type": "stream",
     "name": "stdout",
     "text": [
      "  % Total    % Received % Xferd  Average Speed   Time    Time     Time  Current\n",
      "                                 Dload  Upload   Total   Spent    Left  Speed\n",
      "100   146  100   146    0     0    338      0 --:--:-- --:--:-- --:--:--   338\n",
      "100 18.1M  100 18.1M    0     0  3035k      0  0:00:06  0:00:06 --:--:-- 3717k\n",
      "tabla.saber.2014.csv\n"
     ]
    }
   ],
   "source": [
    "!curl -LJo {data_raw_dir('saber.tar.gz')} https://github.com/finiterank/saber2014/raw/master/tabla.saber.tar.gz\n",
    "\n",
    "!tar -xvf {data_raw_dir('saber.tar.gz')} -C {data_raw_dir()}\n",
    "!rm {data_raw_dir('saber.tar.gz')}"
   ]
  },
  {
   "cell_type": "code",
   "execution_count": null,
   "metadata": {},
   "outputs": [],
   "source": []
  }
 ]
}