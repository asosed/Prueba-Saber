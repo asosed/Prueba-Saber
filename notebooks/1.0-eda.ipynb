{
 "metadata": {
  "language_info": {
   "codemirror_mode": {
    "name": "ipython",
    "version": 3
   },
   "file_extension": ".py",
   "mimetype": "text/x-python",
   "name": "python",
   "nbconvert_exporter": "python",
   "pygments_lexer": "ipython3",
   "version": "3.9.2"
  },
  "orig_nbformat": 2,
  "kernelspec": {
   "name": "python392jvsc74a57bd0c3d5184c4b66895d208219d4d00a40650490df6cf3ed6a79c25046b559a288c9",
   "display_name": "Python 3.9.2 64-bit ('kaggle': conda)"
  }
 },
 "nbformat": 4,
 "nbformat_minor": 2,
 "cells": [
  {
   "cell_type": "code",
   "execution_count": 1,
   "metadata": {},
   "outputs": [],
   "source": [
    "%run before_to_start.ipynb"
   ]
  },
  {
   "cell_type": "code",
   "execution_count": 2,
   "metadata": {},
   "outputs": [],
   "source": [
    "import janitor\n",
    "import numpy as np \n",
    "import pandas as pd \n",
    "import seaborn as sns\n",
    "import matplotlib.pyplot as plt \n",
    "\n",
    "sns.set_style('whitegrid')"
   ]
  },
  {
   "cell_type": "code",
   "execution_count": 3,
   "metadata": {},
   "outputs": [
    {
     "output_type": "execute_result",
     "data": {
      "text/plain": [
       "   codigo_icfes    estu_consecutivo pers_genero pers_fechanacimiento  \\\n",
       "0            18  SABER1120142534739           F             24/04/98   \n",
       "1            18  SABER1120142094962           F             17/03/98   \n",
       "2            18  SABER1120142337859           M             17/12/97   \n",
       "3            18  SABER1120142502015           F             27/10/94   \n",
       "4            18  SABER1120142075449           F             30/01/96   \n",
       "\n",
       "   pers_etnia disc_cognitiva disc_condicion_especial dis_motriz  \\\n",
       "0       100.0            NaN                     NaN        NaN   \n",
       "1       100.0            NaN                     NaN        NaN   \n",
       "2       100.0            NaN                     NaN        NaN   \n",
       "3       100.0            NaN                     NaN        NaN   \n",
       "4       100.0            NaN                     NaN        NaN   \n",
       "\n",
       "  disc_invidente disc_sordo  ... lectura_critica_punt matematicas_punt  \\\n",
       "0            NaN        NaN  ...                   55               47   \n",
       "1            NaN        NaN  ...                   63               69   \n",
       "2            NaN        NaN  ...                   61               59   \n",
       "3            NaN        NaN  ...                   51               50   \n",
       "4            NaN        NaN  ...                   63               56   \n",
       "\n",
       "   sociales_ciudadanas_punt ciencias_naturales_punt ingles_punt  ingles_desem  \\\n",
       "0                        42                      41          52            A1   \n",
       "1                        59                      69          66            A2   \n",
       "2                        56                      54          67            A2   \n",
       "3                        47                      38          44            A-   \n",
       "4                        61                      64          88            B+   \n",
       "\n",
       "   naturaleza departamento total  borde  \n",
       "0  NO OFICIAL    ANTIOQUIA   233  False  \n",
       "1  NO OFICIAL    ANTIOQUIA   325   True  \n",
       "2  NO OFICIAL    ANTIOQUIA   291  False  \n",
       "3  NO OFICIAL    ANTIOQUIA   232  False  \n",
       "4  NO OFICIAL    ANTIOQUIA   315   True  \n",
       "\n",
       "[5 rows x 59 columns]"
      ],
      "text/html": "<div>\n<style scoped>\n    .dataframe tbody tr th:only-of-type {\n        vertical-align: middle;\n    }\n\n    .dataframe tbody tr th {\n        vertical-align: top;\n    }\n\n    .dataframe thead th {\n        text-align: right;\n    }\n</style>\n<table border=\"1\" class=\"dataframe\">\n  <thead>\n    <tr style=\"text-align: right;\">\n      <th></th>\n      <th>codigo_icfes</th>\n      <th>estu_consecutivo</th>\n      <th>pers_genero</th>\n      <th>pers_fechanacimiento</th>\n      <th>pers_etnia</th>\n      <th>disc_cognitiva</th>\n      <th>disc_condicion_especial</th>\n      <th>dis_motriz</th>\n      <th>disc_invidente</th>\n      <th>disc_sordo</th>\n      <th>...</th>\n      <th>lectura_critica_punt</th>\n      <th>matematicas_punt</th>\n      <th>sociales_ciudadanas_punt</th>\n      <th>ciencias_naturales_punt</th>\n      <th>ingles_punt</th>\n      <th>ingles_desem</th>\n      <th>naturaleza</th>\n      <th>departamento</th>\n      <th>total</th>\n      <th>borde</th>\n    </tr>\n  </thead>\n  <tbody>\n    <tr>\n      <th>0</th>\n      <td>18</td>\n      <td>SABER1120142534739</td>\n      <td>F</td>\n      <td>24/04/98</td>\n      <td>100.0</td>\n      <td>NaN</td>\n      <td>NaN</td>\n      <td>NaN</td>\n      <td>NaN</td>\n      <td>NaN</td>\n      <td>...</td>\n      <td>55</td>\n      <td>47</td>\n      <td>42</td>\n      <td>41</td>\n      <td>52</td>\n      <td>A1</td>\n      <td>NO OFICIAL</td>\n      <td>ANTIOQUIA</td>\n      <td>233</td>\n      <td>False</td>\n    </tr>\n    <tr>\n      <th>1</th>\n      <td>18</td>\n      <td>SABER1120142094962</td>\n      <td>F</td>\n      <td>17/03/98</td>\n      <td>100.0</td>\n      <td>NaN</td>\n      <td>NaN</td>\n      <td>NaN</td>\n      <td>NaN</td>\n      <td>NaN</td>\n      <td>...</td>\n      <td>63</td>\n      <td>69</td>\n      <td>59</td>\n      <td>69</td>\n      <td>66</td>\n      <td>A2</td>\n      <td>NO OFICIAL</td>\n      <td>ANTIOQUIA</td>\n      <td>325</td>\n      <td>True</td>\n    </tr>\n    <tr>\n      <th>2</th>\n      <td>18</td>\n      <td>SABER1120142337859</td>\n      <td>M</td>\n      <td>17/12/97</td>\n      <td>100.0</td>\n      <td>NaN</td>\n      <td>NaN</td>\n      <td>NaN</td>\n      <td>NaN</td>\n      <td>NaN</td>\n      <td>...</td>\n      <td>61</td>\n      <td>59</td>\n      <td>56</td>\n      <td>54</td>\n      <td>67</td>\n      <td>A2</td>\n      <td>NO OFICIAL</td>\n      <td>ANTIOQUIA</td>\n      <td>291</td>\n      <td>False</td>\n    </tr>\n    <tr>\n      <th>3</th>\n      <td>18</td>\n      <td>SABER1120142502015</td>\n      <td>F</td>\n      <td>27/10/94</td>\n      <td>100.0</td>\n      <td>NaN</td>\n      <td>NaN</td>\n      <td>NaN</td>\n      <td>NaN</td>\n      <td>NaN</td>\n      <td>...</td>\n      <td>51</td>\n      <td>50</td>\n      <td>47</td>\n      <td>38</td>\n      <td>44</td>\n      <td>A-</td>\n      <td>NO OFICIAL</td>\n      <td>ANTIOQUIA</td>\n      <td>232</td>\n      <td>False</td>\n    </tr>\n    <tr>\n      <th>4</th>\n      <td>18</td>\n      <td>SABER1120142075449</td>\n      <td>F</td>\n      <td>30/01/96</td>\n      <td>100.0</td>\n      <td>NaN</td>\n      <td>NaN</td>\n      <td>NaN</td>\n      <td>NaN</td>\n      <td>NaN</td>\n      <td>...</td>\n      <td>63</td>\n      <td>56</td>\n      <td>61</td>\n      <td>64</td>\n      <td>88</td>\n      <td>B+</td>\n      <td>NO OFICIAL</td>\n      <td>ANTIOQUIA</td>\n      <td>315</td>\n      <td>True</td>\n    </tr>\n  </tbody>\n</table>\n<p>5 rows × 59 columns</p>\n</div>"
     },
     "metadata": {},
     "execution_count": 3
    }
   ],
   "source": [
    "saber_df = pd.read_csv(data_raw_dir('tabla.saber.2014.csv'), \n",
    "                       dtype={'DISC_COGNITIVA': 'object',\n",
    "                              'DISC_CONDICION_ESPECIAL': 'object',\n",
    "                              'DIS_MOTRIZ': 'object',\n",
    "                              'DISC_INVIDENTE': 'object',\n",
    "                              'DISC_INVIDENTE': 'object',\n",
    "                              'DISC_SORDO': 'object',\n",
    "                              'DISC_SDOWN': 'object',\n",
    "                              'DISC_AUTISMO': 'object',\n",
    "                              'DISC_AUTISMO': 'object',\n",
    "                              'CODIGO_DANE': 'object'})\n",
    "\n",
    "saber_df = saber_df.clean_names(case_type='snake')\n",
    "saber_df.head()"
   ]
  },
  {
   "cell_type": "code",
   "execution_count": 4,
   "metadata": {},
   "outputs": [
    {
     "output_type": "execute_result",
     "data": {
      "text/plain": [
       "['codigo_icfes',\n",
       " 'estu_consecutivo',\n",
       " 'pers_genero',\n",
       " 'pers_fechanacimiento',\n",
       " 'pers_etnia',\n",
       " 'disc_cognitiva',\n",
       " 'disc_condicion_especial',\n",
       " 'dis_motriz',\n",
       " 'disc_invidente',\n",
       " 'disc_sordo',\n",
       " 'disc_sdown',\n",
       " 'disc_autismo',\n",
       " 'cod_muni_reside',\n",
       " 'muni_reside',\n",
       " 'depa_reside',\n",
       " 'zona_reside',\n",
       " 'fins_tipoubicacion',\n",
       " 'codigo_dane',\n",
       " 'nombre_sede',\n",
       " 'jornada',\n",
       " 'fins_valormensualpension',\n",
       " 'fins_repeticionexamen',\n",
       " 'cod_muni_apli',\n",
       " 'muni_apli',\n",
       " 'depa_apli',\n",
       " 'fins_niveleducativopadre',\n",
       " 'fins_niveleducativomadre',\n",
       " 'fins_ocupacionpadre',\n",
       " 'fins_ocupacionmadre',\n",
       " 'fins_estratoviviendaenergia',\n",
       " 'fins_sisben',\n",
       " 'fins_personashogaractual',\n",
       " 'fins_cuartoshogaractual',\n",
       " 'fins_pisoshogar',\n",
       " 'fins_tienetelefonofijo',\n",
       " 'fins_tienetelefonocelular',\n",
       " 'fins_tieneinternet',\n",
       " 'fins_tienetelevision',\n",
       " 'fins_tienecomputador',\n",
       " 'fins_tienedvd',\n",
       " 'fins_tienelavadoraropa',\n",
       " 'fins_tienehornomicroondas',\n",
       " 'fins_tienenevera',\n",
       " 'fins_tieneautomovilparticular',\n",
       " 'fins_tienehornoelectricogas',\n",
       " 'fins_ingresomensualhogar',\n",
       " 'fins_trabajaactualmente',\n",
       " 'fins_salarioportrabajo',\n",
       " 'eval_puesto',\n",
       " 'lectura_critica_punt',\n",
       " 'matematicas_punt',\n",
       " 'sociales_ciudadanas_punt',\n",
       " 'ciencias_naturales_punt',\n",
       " 'ingles_punt',\n",
       " 'ingles_desem',\n",
       " 'naturaleza',\n",
       " 'departamento',\n",
       " 'total',\n",
       " 'borde']"
      ]
     },
     "metadata": {},
     "execution_count": 4
    }
   ],
   "source": [
    "saber_df.columns.tolist()"
   ]
  },
  {
   "cell_type": "code",
   "execution_count": 5,
   "metadata": {},
   "outputs": [
    {
     "output_type": "execute_result",
     "data": {
      "text/plain": [
       "codigo_icfes                     0.000000\n",
       "estu_consecutivo                 0.000000\n",
       "pers_genero                      0.000382\n",
       "pers_fechanacimiento             0.000122\n",
       "pers_etnia                       0.002477\n",
       "disc_cognitiva                   1.000000\n",
       "disc_condicion_especial          0.999402\n",
       "dis_motriz                       0.999120\n",
       "disc_invidente                   0.999707\n",
       "disc_sordo                       0.999762\n",
       "disc_sdown                       0.999941\n",
       "disc_autismo                     0.999779\n",
       "cod_muni_reside                  0.000035\n",
       "muni_reside                      0.000035\n",
       "depa_reside                      0.000035\n",
       "zona_reside                      0.000000\n",
       "fins_tipoubicacion               0.002504\n",
       "codigo_dane                      0.000000\n",
       "nombre_sede                      0.000000\n",
       "jornada                          0.000000\n",
       "fins_valormensualpension         0.002510\n",
       "fins_repeticionexamen            0.002510\n",
       "cod_muni_apli                    0.000000\n",
       "muni_apli                        0.000000\n",
       "depa_apli                        0.000000\n",
       "fins_niveleducativopadre         0.002482\n",
       "fins_niveleducativomadre         0.002482\n",
       "fins_ocupacionpadre              0.002482\n",
       "fins_ocupacionmadre              0.002484\n",
       "fins_estratoviviendaenergia      0.002482\n",
       "fins_sisben                      0.002482\n",
       "fins_personashogaractual         0.002482\n",
       "fins_cuartoshogaractual          0.002482\n",
       "fins_pisoshogar                  0.002482\n",
       "fins_tienetelefonofijo           0.002482\n",
       "fins_tienetelefonocelular        0.002482\n",
       "fins_tieneinternet               0.002482\n",
       "fins_tienetelevision             0.002482\n",
       "fins_tienecomputador             0.002482\n",
       "fins_tienedvd                    0.002482\n",
       "fins_tienelavadoraropa           0.002482\n",
       "fins_tienehornomicroondas        0.002482\n",
       "fins_tienenevera                 0.002482\n",
       "fins_tieneautomovilparticular    0.002482\n",
       "fins_tienehornoelectricogas      0.002482\n",
       "fins_ingresomensualhogar         0.002482\n",
       "fins_trabajaactualmente          0.002478\n",
       "fins_salarioportrabajo           0.906977\n",
       "eval_puesto                      0.000000\n",
       "lectura_critica_punt             0.000000\n",
       "matematicas_punt                 0.000000\n",
       "sociales_ciudadanas_punt         0.000000\n",
       "ciencias_naturales_punt          0.000000\n",
       "ingles_punt                      0.000000\n",
       "ingles_desem                     0.000000\n",
       "naturaleza                       0.000002\n",
       "departamento                     0.000002\n",
       "total                            0.000000\n",
       "borde                            0.000000\n",
       "dtype: float64"
      ]
     },
     "metadata": {},
     "execution_count": 5
    }
   ],
   "source": [
    "# Percent missing values\n",
    "saber_df.isna().sum() / len(saber_df)"
   ]
  },
  {
   "source": [
    "## **Fill na**"
   ],
   "cell_type": "markdown",
   "metadata": {}
  },
  {
   "cell_type": "code",
   "execution_count": 6,
   "metadata": {},
   "outputs": [
    {
     "output_type": "execute_result",
     "data": {
      "text/plain": [
       "codigo_icfes                       int64\n",
       "estu_consecutivo                  object\n",
       "pers_genero                       object\n",
       "pers_fechanacimiento              object\n",
       "pers_etnia                       float64\n",
       "disc_cognitiva                    object\n",
       "disc_condicion_especial           object\n",
       "dis_motriz                        object\n",
       "disc_invidente                    object\n",
       "disc_sordo                        object\n",
       "disc_sdown                        object\n",
       "disc_autismo                      object\n",
       "cod_muni_reside                  float64\n",
       "muni_reside                       object\n",
       "depa_reside                       object\n",
       "zona_reside                        int64\n",
       "fins_tipoubicacion                object\n",
       "codigo_dane                       object\n",
       "nombre_sede                       object\n",
       "jornada                           object\n",
       "fins_valormensualpension         float64\n",
       "fins_repeticionexamen            float64\n",
       "cod_muni_apli                      int64\n",
       "muni_apli                         object\n",
       "depa_apli                         object\n",
       "fins_niveleducativopadre         float64\n",
       "fins_niveleducativomadre         float64\n",
       "fins_ocupacionpadre              float64\n",
       "fins_ocupacionmadre              float64\n",
       "fins_estratoviviendaenergia      float64\n",
       "fins_sisben                      float64\n",
       "fins_personashogaractual         float64\n",
       "fins_cuartoshogaractual          float64\n",
       "fins_pisoshogar                  float64\n",
       "fins_tienetelefonofijo            object\n",
       "fins_tienetelefonocelular         object\n",
       "fins_tieneinternet                object\n",
       "fins_tienetelevision              object\n",
       "fins_tienecomputador              object\n",
       "fins_tienedvd                     object\n",
       "fins_tienelavadoraropa            object\n",
       "fins_tienehornomicroondas         object\n",
       "fins_tienenevera                  object\n",
       "fins_tieneautomovilparticular     object\n",
       "fins_tienehornoelectricogas       object\n",
       "fins_ingresomensualhogar         float64\n",
       "fins_trabajaactualmente          float64\n",
       "fins_salarioportrabajo            object\n",
       "eval_puesto                        int64\n",
       "lectura_critica_punt               int64\n",
       "matematicas_punt                   int64\n",
       "sociales_ciudadanas_punt           int64\n",
       "ciencias_naturales_punt            int64\n",
       "ingles_punt                        int64\n",
       "ingles_desem                      object\n",
       "naturaleza                        object\n",
       "departamento                      object\n",
       "total                              int64\n",
       "borde                               bool\n",
       "dtype: object"
      ]
     },
     "metadata": {},
     "execution_count": 6
    }
   ],
   "source": [
    "saber_df.dtypes"
   ]
  },
  {
   "cell_type": "code",
   "execution_count": 7,
   "metadata": {},
   "outputs": [],
   "source": [
    "categorical_cols = [column for column in saber_df.columns if\n",
    "                        saber_df[column].nunique() != 2 and\n",
    "                        saber_df[column].nunique() < 10 and \n",
    "                        saber_df[column].dtype == 'object']\n",
    "\n",
    "numerical_cols = saber_df.select_dtypes(include='number').columns.tolist()"
   ]
  },
  {
   "cell_type": "code",
   "execution_count": 8,
   "metadata": {},
   "outputs": [
    {
     "output_type": "execute_result",
     "data": {
      "text/plain": [
       "   disc_condicion_especial_CE  dis_motriz_MOT  disc_invidente_VIS  \\\n",
       "0                           0               0                   0   \n",
       "1                           0               0                   0   \n",
       "2                           0               0                   0   \n",
       "3                           0               0                   0   \n",
       "4                           0               0                   0   \n",
       "\n",
       "   disc_sordo_AUD  disc_sdown_SD  disc_autismo_AA  jornada_C  jornada_M  \\\n",
       "0               0              0                0          1          0   \n",
       "1               0              0                0          1          0   \n",
       "2               0              0                0          1          0   \n",
       "3               0              0                0          1          0   \n",
       "4               0              0                0          1          0   \n",
       "\n",
       "   jornada_N  jornada_S  jornada_T  ingles_desem_A-  ingles_desem_A1  \\\n",
       "0          0          0          0                0                1   \n",
       "1          0          0          0                0                0   \n",
       "2          0          0          0                0                0   \n",
       "3          0          0          0                1                0   \n",
       "4          0          0          0                0                0   \n",
       "\n",
       "   ingles_desem_A2  ingles_desem_B+  ingles_desem_B1  \n",
       "0                0                0                0  \n",
       "1                1                0                0  \n",
       "2                1                0                0  \n",
       "3                0                0                0  \n",
       "4                0                1                0  "
      ],
      "text/html": "<div>\n<style scoped>\n    .dataframe tbody tr th:only-of-type {\n        vertical-align: middle;\n    }\n\n    .dataframe tbody tr th {\n        vertical-align: top;\n    }\n\n    .dataframe thead th {\n        text-align: right;\n    }\n</style>\n<table border=\"1\" class=\"dataframe\">\n  <thead>\n    <tr style=\"text-align: right;\">\n      <th></th>\n      <th>disc_condicion_especial_CE</th>\n      <th>dis_motriz_MOT</th>\n      <th>disc_invidente_VIS</th>\n      <th>disc_sordo_AUD</th>\n      <th>disc_sdown_SD</th>\n      <th>disc_autismo_AA</th>\n      <th>jornada_C</th>\n      <th>jornada_M</th>\n      <th>jornada_N</th>\n      <th>jornada_S</th>\n      <th>jornada_T</th>\n      <th>ingles_desem_A-</th>\n      <th>ingles_desem_A1</th>\n      <th>ingles_desem_A2</th>\n      <th>ingles_desem_B+</th>\n      <th>ingles_desem_B1</th>\n    </tr>\n  </thead>\n  <tbody>\n    <tr>\n      <th>0</th>\n      <td>0</td>\n      <td>0</td>\n      <td>0</td>\n      <td>0</td>\n      <td>0</td>\n      <td>0</td>\n      <td>1</td>\n      <td>0</td>\n      <td>0</td>\n      <td>0</td>\n      <td>0</td>\n      <td>0</td>\n      <td>1</td>\n      <td>0</td>\n      <td>0</td>\n      <td>0</td>\n    </tr>\n    <tr>\n      <th>1</th>\n      <td>0</td>\n      <td>0</td>\n      <td>0</td>\n      <td>0</td>\n      <td>0</td>\n      <td>0</td>\n      <td>1</td>\n      <td>0</td>\n      <td>0</td>\n      <td>0</td>\n      <td>0</td>\n      <td>0</td>\n      <td>0</td>\n      <td>1</td>\n      <td>0</td>\n      <td>0</td>\n    </tr>\n    <tr>\n      <th>2</th>\n      <td>0</td>\n      <td>0</td>\n      <td>0</td>\n      <td>0</td>\n      <td>0</td>\n      <td>0</td>\n      <td>1</td>\n      <td>0</td>\n      <td>0</td>\n      <td>0</td>\n      <td>0</td>\n      <td>0</td>\n      <td>0</td>\n      <td>1</td>\n      <td>0</td>\n      <td>0</td>\n    </tr>\n    <tr>\n      <th>3</th>\n      <td>0</td>\n      <td>0</td>\n      <td>0</td>\n      <td>0</td>\n      <td>0</td>\n      <td>0</td>\n      <td>1</td>\n      <td>0</td>\n      <td>0</td>\n      <td>0</td>\n      <td>0</td>\n      <td>1</td>\n      <td>0</td>\n      <td>0</td>\n      <td>0</td>\n      <td>0</td>\n    </tr>\n    <tr>\n      <th>4</th>\n      <td>0</td>\n      <td>0</td>\n      <td>0</td>\n      <td>0</td>\n      <td>0</td>\n      <td>0</td>\n      <td>1</td>\n      <td>0</td>\n      <td>0</td>\n      <td>0</td>\n      <td>0</td>\n      <td>0</td>\n      <td>0</td>\n      <td>0</td>\n      <td>1</td>\n      <td>0</td>\n    </tr>\n  </tbody>\n</table>\n</div>"
     },
     "metadata": {},
     "execution_count": 8
    }
   ],
   "source": [
    "dummy_encoded = pd.get_dummies(saber_df[categorical_cols])\n",
    "dummy_encoded.head()"
   ]
  },
  {
   "cell_type": "code",
   "execution_count": 9,
   "metadata": {},
   "outputs": [],
   "source": [
    "saber_df.drop(categorical_cols, axis=1, inplace=True)\n",
    "saber_df = pd.concat([saber_df, dummy_encoded], axis=1)"
   ]
  },
  {
   "cell_type": "code",
   "execution_count": 10,
   "metadata": {},
   "outputs": [
    {
     "output_type": "stream",
     "name": "stdout",
     "text": [
      "codigo_icfes                     0.000000\nestu_consecutivo                 0.000000\npers_genero                      0.000382\npers_fechanacimiento             0.000122\npers_etnia                       0.002477\ncod_muni_reside                  0.000035\nmuni_reside                      0.000035\ndepa_reside                      0.000035\nzona_reside                      0.000000\nfins_tipoubicacion               0.002504\ncodigo_dane                      0.000000\nnombre_sede                      0.000000\nfins_valormensualpension         0.002510\nfins_repeticionexamen            0.002510\ncod_muni_apli                    0.000000\nmuni_apli                        0.000000\ndepa_apli                        0.000000\nfins_niveleducativopadre         0.002482\nfins_niveleducativomadre         0.002482\nfins_ocupacionpadre              0.002482\nfins_ocupacionmadre              0.002484\nfins_estratoviviendaenergia      0.002482\nfins_sisben                      0.002482\nfins_personashogaractual         0.002482\nfins_cuartoshogaractual          0.002482\nfins_pisoshogar                  0.002482\nfins_tienetelefonofijo           0.002482\nfins_tienetelefonocelular        0.002482\nfins_tieneinternet               0.002482\nfins_tienetelevision             0.002482\nfins_tienecomputador             0.002482\nfins_tienedvd                    0.002482\nfins_tienelavadoraropa           0.002482\nfins_tienehornomicroondas        0.002482\nfins_tienenevera                 0.002482\nfins_tieneautomovilparticular    0.002482\nfins_tienehornoelectricogas      0.002482\nfins_ingresomensualhogar         0.002482\nfins_trabajaactualmente          0.002478\nfins_salarioportrabajo           0.906977\neval_puesto                      0.000000\nlectura_critica_punt             0.000000\nmatematicas_punt                 0.000000\nsociales_ciudadanas_punt         0.000000\nciencias_naturales_punt          0.000000\ningles_punt                      0.000000\nnaturaleza                       0.000002\ndepartamento                     0.000002\ntotal                            0.000000\nborde                            0.000000\ndisc_condicion_especial_CE       0.000000\ndis_motriz_MOT                   0.000000\ndisc_invidente_VIS               0.000000\ndisc_sordo_AUD                   0.000000\ndisc_sdown_SD                    0.000000\ndisc_autismo_AA                  0.000000\njornada_C                        0.000000\njornada_M                        0.000000\njornada_N                        0.000000\njornada_S                        0.000000\ndtype: float64\n"
     ]
    }
   ],
   "source": [
    "# Percent missing values\n",
    "print(saber_df.iloc[:, :60].isna().sum() / len(saber_df))"
   ]
  },
  {
   "cell_type": "code",
   "execution_count": 11,
   "metadata": {},
   "outputs": [],
   "source": [
    "saber_df.drop(['fins_salarioportrabajo'], axis=1, inplace=True)\n",
    "saber_df.dropna(inplace=True)"
   ]
  },
  {
   "cell_type": "code",
   "execution_count": 12,
   "metadata": {},
   "outputs": [],
   "source": [
    "def date_to_age(born):    \n",
    "    today = date.today()\n",
    "    born = datetime.strptime(born, '%d/%m/%y')\n",
    "\n",
    "    return today.year - born.year - ((today.month, today.day) < (born.month, born.day))"
   ]
  },
  {
   "cell_type": "code",
   "execution_count": 14,
   "metadata": {},
   "outputs": [],
   "source": [
    "from datetime import date, datetime\n",
    "\n",
    "# Add age column\n",
    "saber_df['pers_age'] = saber_df['pers_fechanacimiento'].apply(date_to_age)\n",
    "saber_df.drop(['pers_fechanacimiento'], axis=1, inplace=True)"
   ]
  },
  {
   "cell_type": "code",
   "execution_count": 15,
   "metadata": {},
   "outputs": [
    {
     "output_type": "stream",
     "name": "stdout",
     "text": [
      "codigo_icfes                     0.0\nestu_consecutivo                 0.0\npers_genero                      0.0\npers_etnia                       0.0\ncod_muni_reside                  0.0\nmuni_reside                      0.0\ndepa_reside                      0.0\nzona_reside                      0.0\nfins_tipoubicacion               0.0\ncodigo_dane                      0.0\nnombre_sede                      0.0\nfins_valormensualpension         0.0\nfins_repeticionexamen            0.0\ncod_muni_apli                    0.0\nmuni_apli                        0.0\ndepa_apli                        0.0\nfins_niveleducativopadre         0.0\nfins_niveleducativomadre         0.0\nfins_ocupacionpadre              0.0\nfins_ocupacionmadre              0.0\nfins_estratoviviendaenergia      0.0\nfins_sisben                      0.0\nfins_personashogaractual         0.0\nfins_cuartoshogaractual          0.0\nfins_pisoshogar                  0.0\nfins_tienetelefonofijo           0.0\nfins_tienetelefonocelular        0.0\nfins_tieneinternet               0.0\nfins_tienetelevision             0.0\nfins_tienecomputador             0.0\nfins_tienedvd                    0.0\nfins_tienelavadoraropa           0.0\nfins_tienehornomicroondas        0.0\nfins_tienenevera                 0.0\nfins_tieneautomovilparticular    0.0\nfins_tienehornoelectricogas      0.0\nfins_ingresomensualhogar         0.0\nfins_trabajaactualmente          0.0\neval_puesto                      0.0\nlectura_critica_punt             0.0\nmatematicas_punt                 0.0\nsociales_ciudadanas_punt         0.0\nciencias_naturales_punt          0.0\ningles_punt                      0.0\nnaturaleza                       0.0\ndepartamento                     0.0\ntotal                            0.0\nborde                            0.0\ndisc_condicion_especial_CE       0.0\ndis_motriz_MOT                   0.0\ndisc_invidente_VIS               0.0\ndisc_sordo_AUD                   0.0\ndisc_sdown_SD                    0.0\ndisc_autismo_AA                  0.0\njornada_C                        0.0\njornada_M                        0.0\njornada_N                        0.0\njornada_S                        0.0\njornada_T                        0.0\ningles_desem_A-                  0.0\ndtype: float64\n"
     ]
    }
   ],
   "source": [
    "print(saber_df.iloc[:, :60].isna().sum() / len(saber_df))"
   ]
  },
  {
   "cell_type": "code",
   "execution_count": 17,
   "metadata": {},
   "outputs": [
    {
     "output_type": "display_data",
     "data": {
      "text/plain": "   codigo_icfes    estu_consecutivo pers_genero  pers_etnia  cod_muni_reside  \\\n0            18  SABER1120142534739           F       100.0           5001.0   \n1            18  SABER1120142094962           F       100.0           5001.0   \n2            18  SABER1120142337859           M       100.0           5001.0   \n3            18  SABER1120142502015           F       100.0           5001.0   \n4            18  SABER1120142075449           F       100.0           5001.0   \n\n  muni_reside depa_reside  zona_reside fins_tipoubicacion   codigo_dane  \\\n0    MEDELLIN   ANTIOQUIA            3                  U  305001004731   \n1    MEDELLIN   ANTIOQUIA            3                  U  305001004731   \n2    MEDELLIN   ANTIOQUIA            3                  U  305001004731   \n3    MEDELLIN   ANTIOQUIA            3                  U  305001004731   \n4    MEDELLIN   ANTIOQUIA            3                  U  305001004731   \n\n             nombre_sede  fins_valormensualpension  fins_repeticionexamen  \\\n0  COL ATENEO HORIZONTES                       6.0                    1.0   \n1  COL ATENEO HORIZONTES                       6.0                    1.0   \n2  COL ATENEO HORIZONTES                       6.0                    1.0   \n3  COL ATENEO HORIZONTES                       6.0                    1.0   \n4  COL ATENEO HORIZONTES                       6.0                    1.0   \n\n   cod_muni_apli muni_apli  depa_apli  fins_niveleducativopadre  \\\n0           5001  MEDELLIN  ANTIOQUIA                       8.0   \n1           5001  MEDELLIN  ANTIOQUIA                       4.0   \n2           5001  MEDELLIN  ANTIOQUIA                       5.0   \n3           5001  MEDELLIN  ANTIOQUIA                       9.0   \n4           5001  MEDELLIN  ANTIOQUIA                       5.0   \n\n   fins_niveleducativomadre  fins_ocupacionpadre  fins_ocupacionmadre  \n0                       7.0                  9.0                 10.0  \n1                       7.0                  9.0                  5.0  \n2                       8.0                  9.0                 10.0  \n3                       7.0                  9.0                  9.0  \n4                       5.0                  9.0                 10.0  ",
      "text/html": "<div>\n<style scoped>\n    .dataframe tbody tr th:only-of-type {\n        vertical-align: middle;\n    }\n\n    .dataframe tbody tr th {\n        vertical-align: top;\n    }\n\n    .dataframe thead th {\n        text-align: right;\n    }\n</style>\n<table border=\"1\" class=\"dataframe\">\n  <thead>\n    <tr style=\"text-align: right;\">\n      <th></th>\n      <th>codigo_icfes</th>\n      <th>estu_consecutivo</th>\n      <th>pers_genero</th>\n      <th>pers_etnia</th>\n      <th>cod_muni_reside</th>\n      <th>muni_reside</th>\n      <th>depa_reside</th>\n      <th>zona_reside</th>\n      <th>fins_tipoubicacion</th>\n      <th>codigo_dane</th>\n      <th>nombre_sede</th>\n      <th>fins_valormensualpension</th>\n      <th>fins_repeticionexamen</th>\n      <th>cod_muni_apli</th>\n      <th>muni_apli</th>\n      <th>depa_apli</th>\n      <th>fins_niveleducativopadre</th>\n      <th>fins_niveleducativomadre</th>\n      <th>fins_ocupacionpadre</th>\n      <th>fins_ocupacionmadre</th>\n    </tr>\n  </thead>\n  <tbody>\n    <tr>\n      <th>0</th>\n      <td>18</td>\n      <td>SABER1120142534739</td>\n      <td>F</td>\n      <td>100.0</td>\n      <td>5001.0</td>\n      <td>MEDELLIN</td>\n      <td>ANTIOQUIA</td>\n      <td>3</td>\n      <td>U</td>\n      <td>305001004731</td>\n      <td>COL ATENEO HORIZONTES</td>\n      <td>6.0</td>\n      <td>1.0</td>\n      <td>5001</td>\n      <td>MEDELLIN</td>\n      <td>ANTIOQUIA</td>\n      <td>8.0</td>\n      <td>7.0</td>\n      <td>9.0</td>\n      <td>10.0</td>\n    </tr>\n    <tr>\n      <th>1</th>\n      <td>18</td>\n      <td>SABER1120142094962</td>\n      <td>F</td>\n      <td>100.0</td>\n      <td>5001.0</td>\n      <td>MEDELLIN</td>\n      <td>ANTIOQUIA</td>\n      <td>3</td>\n      <td>U</td>\n      <td>305001004731</td>\n      <td>COL ATENEO HORIZONTES</td>\n      <td>6.0</td>\n      <td>1.0</td>\n      <td>5001</td>\n      <td>MEDELLIN</td>\n      <td>ANTIOQUIA</td>\n      <td>4.0</td>\n      <td>7.0</td>\n      <td>9.0</td>\n      <td>5.0</td>\n    </tr>\n    <tr>\n      <th>2</th>\n      <td>18</td>\n      <td>SABER1120142337859</td>\n      <td>M</td>\n      <td>100.0</td>\n      <td>5001.0</td>\n      <td>MEDELLIN</td>\n      <td>ANTIOQUIA</td>\n      <td>3</td>\n      <td>U</td>\n      <td>305001004731</td>\n      <td>COL ATENEO HORIZONTES</td>\n      <td>6.0</td>\n      <td>1.0</td>\n      <td>5001</td>\n      <td>MEDELLIN</td>\n      <td>ANTIOQUIA</td>\n      <td>5.0</td>\n      <td>8.0</td>\n      <td>9.0</td>\n      <td>10.0</td>\n    </tr>\n    <tr>\n      <th>3</th>\n      <td>18</td>\n      <td>SABER1120142502015</td>\n      <td>F</td>\n      <td>100.0</td>\n      <td>5001.0</td>\n      <td>MEDELLIN</td>\n      <td>ANTIOQUIA</td>\n      <td>3</td>\n      <td>U</td>\n      <td>305001004731</td>\n      <td>COL ATENEO HORIZONTES</td>\n      <td>6.0</td>\n      <td>1.0</td>\n      <td>5001</td>\n      <td>MEDELLIN</td>\n      <td>ANTIOQUIA</td>\n      <td>9.0</td>\n      <td>7.0</td>\n      <td>9.0</td>\n      <td>9.0</td>\n    </tr>\n    <tr>\n      <th>4</th>\n      <td>18</td>\n      <td>SABER1120142075449</td>\n      <td>F</td>\n      <td>100.0</td>\n      <td>5001.0</td>\n      <td>MEDELLIN</td>\n      <td>ANTIOQUIA</td>\n      <td>3</td>\n      <td>U</td>\n      <td>305001004731</td>\n      <td>COL ATENEO HORIZONTES</td>\n      <td>6.0</td>\n      <td>1.0</td>\n      <td>5001</td>\n      <td>MEDELLIN</td>\n      <td>ANTIOQUIA</td>\n      <td>5.0</td>\n      <td>5.0</td>\n      <td>9.0</td>\n      <td>10.0</td>\n    </tr>\n  </tbody>\n</table>\n</div>"
     },
     "metadata": {}
    },
    {
     "output_type": "display_data",
     "data": {
      "text/plain": "   fins_estratoviviendaenergia  fins_sisben  fins_personashogaractual  \\\n0                          4.0          5.0                       4.0   \n1                          4.0          5.0                       4.0   \n2                          4.0          5.0                       5.0   \n3                          4.0          5.0                       2.0   \n4                          5.0          5.0                       4.0   \n\n   fins_cuartoshogaractual  fins_pisoshogar fins_tienetelefonofijo  \\\n0                      3.0              4.0                      S   \n1                      3.0              4.0                      S   \n2                      3.0              4.0                      S   \n3                      2.0              4.0                      S   \n4                      2.0              4.0                      S   \n\n  fins_tienetelefonocelular fins_tieneinternet fins_tienetelevision  \\\n0                         S                  S                    S   \n1                         S                  S                    S   \n2                         S                  S                    S   \n3                         S                  S                    S   \n4                         S                  S                    S   \n\n  fins_tienecomputador fins_tienedvd fins_tienelavadoraropa  \\\n0                    S             S                      S   \n1                    S             S                      S   \n2                    S             S                      S   \n3                    S             S                      S   \n4                    S             S                      S   \n\n  fins_tienehornomicroondas fins_tienenevera fins_tieneautomovilparticular  \\\n0                         S                S                             N   \n1                         S                S                             S   \n2                         S                S                             S   \n3                         S                S                             S   \n4                         S                S                             N   \n\n  fins_tienehornoelectricogas  fins_ingresomensualhogar  \\\n0                           S                       2.0   \n1                           S                       5.0   \n2                           S                       4.0   \n3                           S                       2.0   \n4                           S                       2.0   \n\n   fins_trabajaactualmente  eval_puesto  lectura_critica_punt  \n0                      1.0          618                    55  \n1                      1.0           54                    63  \n2                      1.0          166                    61  \n3                      1.0          637                    51  \n4                      1.0           77                    63  ",
      "text/html": "<div>\n<style scoped>\n    .dataframe tbody tr th:only-of-type {\n        vertical-align: middle;\n    }\n\n    .dataframe tbody tr th {\n        vertical-align: top;\n    }\n\n    .dataframe thead th {\n        text-align: right;\n    }\n</style>\n<table border=\"1\" class=\"dataframe\">\n  <thead>\n    <tr style=\"text-align: right;\">\n      <th></th>\n      <th>fins_estratoviviendaenergia</th>\n      <th>fins_sisben</th>\n      <th>fins_personashogaractual</th>\n      <th>fins_cuartoshogaractual</th>\n      <th>fins_pisoshogar</th>\n      <th>fins_tienetelefonofijo</th>\n      <th>fins_tienetelefonocelular</th>\n      <th>fins_tieneinternet</th>\n      <th>fins_tienetelevision</th>\n      <th>fins_tienecomputador</th>\n      <th>fins_tienedvd</th>\n      <th>fins_tienelavadoraropa</th>\n      <th>fins_tienehornomicroondas</th>\n      <th>fins_tienenevera</th>\n      <th>fins_tieneautomovilparticular</th>\n      <th>fins_tienehornoelectricogas</th>\n      <th>fins_ingresomensualhogar</th>\n      <th>fins_trabajaactualmente</th>\n      <th>eval_puesto</th>\n      <th>lectura_critica_punt</th>\n    </tr>\n  </thead>\n  <tbody>\n    <tr>\n      <th>0</th>\n      <td>4.0</td>\n      <td>5.0</td>\n      <td>4.0</td>\n      <td>3.0</td>\n      <td>4.0</td>\n      <td>S</td>\n      <td>S</td>\n      <td>S</td>\n      <td>S</td>\n      <td>S</td>\n      <td>S</td>\n      <td>S</td>\n      <td>S</td>\n      <td>S</td>\n      <td>N</td>\n      <td>S</td>\n      <td>2.0</td>\n      <td>1.0</td>\n      <td>618</td>\n      <td>55</td>\n    </tr>\n    <tr>\n      <th>1</th>\n      <td>4.0</td>\n      <td>5.0</td>\n      <td>4.0</td>\n      <td>3.0</td>\n      <td>4.0</td>\n      <td>S</td>\n      <td>S</td>\n      <td>S</td>\n      <td>S</td>\n      <td>S</td>\n      <td>S</td>\n      <td>S</td>\n      <td>S</td>\n      <td>S</td>\n      <td>S</td>\n      <td>S</td>\n      <td>5.0</td>\n      <td>1.0</td>\n      <td>54</td>\n      <td>63</td>\n    </tr>\n    <tr>\n      <th>2</th>\n      <td>4.0</td>\n      <td>5.0</td>\n      <td>5.0</td>\n      <td>3.0</td>\n      <td>4.0</td>\n      <td>S</td>\n      <td>S</td>\n      <td>S</td>\n      <td>S</td>\n      <td>S</td>\n      <td>S</td>\n      <td>S</td>\n      <td>S</td>\n      <td>S</td>\n      <td>S</td>\n      <td>S</td>\n      <td>4.0</td>\n      <td>1.0</td>\n      <td>166</td>\n      <td>61</td>\n    </tr>\n    <tr>\n      <th>3</th>\n      <td>4.0</td>\n      <td>5.0</td>\n      <td>2.0</td>\n      <td>2.0</td>\n      <td>4.0</td>\n      <td>S</td>\n      <td>S</td>\n      <td>S</td>\n      <td>S</td>\n      <td>S</td>\n      <td>S</td>\n      <td>S</td>\n      <td>S</td>\n      <td>S</td>\n      <td>S</td>\n      <td>S</td>\n      <td>2.0</td>\n      <td>1.0</td>\n      <td>637</td>\n      <td>51</td>\n    </tr>\n    <tr>\n      <th>4</th>\n      <td>5.0</td>\n      <td>5.0</td>\n      <td>4.0</td>\n      <td>2.0</td>\n      <td>4.0</td>\n      <td>S</td>\n      <td>S</td>\n      <td>S</td>\n      <td>S</td>\n      <td>S</td>\n      <td>S</td>\n      <td>S</td>\n      <td>S</td>\n      <td>S</td>\n      <td>N</td>\n      <td>S</td>\n      <td>2.0</td>\n      <td>1.0</td>\n      <td>77</td>\n      <td>63</td>\n    </tr>\n  </tbody>\n</table>\n</div>"
     },
     "metadata": {}
    },
    {
     "output_type": "display_data",
     "data": {
      "text/plain": "   matematicas_punt  sociales_ciudadanas_punt  ciencias_naturales_punt  \\\n0                47                        42                       41   \n1                69                        59                       69   \n2                59                        56                       54   \n3                50                        47                       38   \n4                56                        61                       64   \n\n   ingles_punt  naturaleza departamento  total  borde  \\\n0           52  NO OFICIAL    ANTIOQUIA    233  False   \n1           66  NO OFICIAL    ANTIOQUIA    325   True   \n2           67  NO OFICIAL    ANTIOQUIA    291  False   \n3           44  NO OFICIAL    ANTIOQUIA    232  False   \n4           88  NO OFICIAL    ANTIOQUIA    315   True   \n\n   disc_condicion_especial_CE  dis_motriz_MOT  disc_invidente_VIS  \\\n0                           0               0                   0   \n1                           0               0                   0   \n2                           0               0                   0   \n3                           0               0                   0   \n4                           0               0                   0   \n\n   disc_sordo_AUD  disc_sdown_SD  disc_autismo_AA  jornada_C  jornada_M  \\\n0               0              0                0          1          0   \n1               0              0                0          1          0   \n2               0              0                0          1          0   \n3               0              0                0          1          0   \n4               0              0                0          1          0   \n\n   jornada_N  jornada_S  jornada_T  ingles_desem_A-  \n0          0          0          0                0  \n1          0          0          0                0  \n2          0          0          0                0  \n3          0          0          0                1  \n4          0          0          0                0  ",
      "text/html": "<div>\n<style scoped>\n    .dataframe tbody tr th:only-of-type {\n        vertical-align: middle;\n    }\n\n    .dataframe tbody tr th {\n        vertical-align: top;\n    }\n\n    .dataframe thead th {\n        text-align: right;\n    }\n</style>\n<table border=\"1\" class=\"dataframe\">\n  <thead>\n    <tr style=\"text-align: right;\">\n      <th></th>\n      <th>matematicas_punt</th>\n      <th>sociales_ciudadanas_punt</th>\n      <th>ciencias_naturales_punt</th>\n      <th>ingles_punt</th>\n      <th>naturaleza</th>\n      <th>departamento</th>\n      <th>total</th>\n      <th>borde</th>\n      <th>disc_condicion_especial_CE</th>\n      <th>dis_motriz_MOT</th>\n      <th>disc_invidente_VIS</th>\n      <th>disc_sordo_AUD</th>\n      <th>disc_sdown_SD</th>\n      <th>disc_autismo_AA</th>\n      <th>jornada_C</th>\n      <th>jornada_M</th>\n      <th>jornada_N</th>\n      <th>jornada_S</th>\n      <th>jornada_T</th>\n      <th>ingles_desem_A-</th>\n    </tr>\n  </thead>\n  <tbody>\n    <tr>\n      <th>0</th>\n      <td>47</td>\n      <td>42</td>\n      <td>41</td>\n      <td>52</td>\n      <td>NO OFICIAL</td>\n      <td>ANTIOQUIA</td>\n      <td>233</td>\n      <td>False</td>\n      <td>0</td>\n      <td>0</td>\n      <td>0</td>\n      <td>0</td>\n      <td>0</td>\n      <td>0</td>\n      <td>1</td>\n      <td>0</td>\n      <td>0</td>\n      <td>0</td>\n      <td>0</td>\n      <td>0</td>\n    </tr>\n    <tr>\n      <th>1</th>\n      <td>69</td>\n      <td>59</td>\n      <td>69</td>\n      <td>66</td>\n      <td>NO OFICIAL</td>\n      <td>ANTIOQUIA</td>\n      <td>325</td>\n      <td>True</td>\n      <td>0</td>\n      <td>0</td>\n      <td>0</td>\n      <td>0</td>\n      <td>0</td>\n      <td>0</td>\n      <td>1</td>\n      <td>0</td>\n      <td>0</td>\n      <td>0</td>\n      <td>0</td>\n      <td>0</td>\n    </tr>\n    <tr>\n      <th>2</th>\n      <td>59</td>\n      <td>56</td>\n      <td>54</td>\n      <td>67</td>\n      <td>NO OFICIAL</td>\n      <td>ANTIOQUIA</td>\n      <td>291</td>\n      <td>False</td>\n      <td>0</td>\n      <td>0</td>\n      <td>0</td>\n      <td>0</td>\n      <td>0</td>\n      <td>0</td>\n      <td>1</td>\n      <td>0</td>\n      <td>0</td>\n      <td>0</td>\n      <td>0</td>\n      <td>0</td>\n    </tr>\n    <tr>\n      <th>3</th>\n      <td>50</td>\n      <td>47</td>\n      <td>38</td>\n      <td>44</td>\n      <td>NO OFICIAL</td>\n      <td>ANTIOQUIA</td>\n      <td>232</td>\n      <td>False</td>\n      <td>0</td>\n      <td>0</td>\n      <td>0</td>\n      <td>0</td>\n      <td>0</td>\n      <td>0</td>\n      <td>1</td>\n      <td>0</td>\n      <td>0</td>\n      <td>0</td>\n      <td>0</td>\n      <td>1</td>\n    </tr>\n    <tr>\n      <th>4</th>\n      <td>56</td>\n      <td>61</td>\n      <td>64</td>\n      <td>88</td>\n      <td>NO OFICIAL</td>\n      <td>ANTIOQUIA</td>\n      <td>315</td>\n      <td>True</td>\n      <td>0</td>\n      <td>0</td>\n      <td>0</td>\n      <td>0</td>\n      <td>0</td>\n      <td>0</td>\n      <td>1</td>\n      <td>0</td>\n      <td>0</td>\n      <td>0</td>\n      <td>0</td>\n      <td>0</td>\n    </tr>\n  </tbody>\n</table>\n</div>"
     },
     "metadata": {}
    },
    {
     "output_type": "display_data",
     "data": {
      "text/plain": "   ingles_desem_A1  ingles_desem_A2  ingles_desem_B+  ingles_desem_B1  \\\n0                1                0                0                0   \n1                0                1                0                0   \n2                0                1                0                0   \n3                0                0                0                0   \n4                0                0                1                0   \n\n   pers_age  \n0        22  \n1        23  \n2        23  \n3        26  \n4        25  ",
      "text/html": "<div>\n<style scoped>\n    .dataframe tbody tr th:only-of-type {\n        vertical-align: middle;\n    }\n\n    .dataframe tbody tr th {\n        vertical-align: top;\n    }\n\n    .dataframe thead th {\n        text-align: right;\n    }\n</style>\n<table border=\"1\" class=\"dataframe\">\n  <thead>\n    <tr style=\"text-align: right;\">\n      <th></th>\n      <th>ingles_desem_A1</th>\n      <th>ingles_desem_A2</th>\n      <th>ingles_desem_B+</th>\n      <th>ingles_desem_B1</th>\n      <th>pers_age</th>\n    </tr>\n  </thead>\n  <tbody>\n    <tr>\n      <th>0</th>\n      <td>1</td>\n      <td>0</td>\n      <td>0</td>\n      <td>0</td>\n      <td>22</td>\n    </tr>\n    <tr>\n      <th>1</th>\n      <td>0</td>\n      <td>1</td>\n      <td>0</td>\n      <td>0</td>\n      <td>23</td>\n    </tr>\n    <tr>\n      <th>2</th>\n      <td>0</td>\n      <td>1</td>\n      <td>0</td>\n      <td>0</td>\n      <td>23</td>\n    </tr>\n    <tr>\n      <th>3</th>\n      <td>0</td>\n      <td>0</td>\n      <td>0</td>\n      <td>0</td>\n      <td>26</td>\n    </tr>\n    <tr>\n      <th>4</th>\n      <td>0</td>\n      <td>0</td>\n      <td>1</td>\n      <td>0</td>\n      <td>25</td>\n    </tr>\n  </tbody>\n</table>\n</div>"
     },
     "metadata": {}
    }
   ],
   "source": [
    "from saber.visualization.visualize import display_tables\n",
    "\n",
    "saber_df.display_tables()"
   ]
  },
  {
   "cell_type": "code",
   "execution_count": 16,
   "metadata": {},
   "outputs": [],
   "source": [
    "saber_df.to_csv(data_interim_dir('saber.csv'), index=False)"
   ]
  }
 ]
}