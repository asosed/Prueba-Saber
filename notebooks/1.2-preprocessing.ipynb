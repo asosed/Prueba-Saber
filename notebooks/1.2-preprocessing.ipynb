{
 "metadata": {
  "language_info": {
   "codemirror_mode": {
    "name": "ipython",
    "version": 3
   },
   "file_extension": ".py",
   "mimetype": "text/x-python",
   "name": "python",
   "nbconvert_exporter": "python",
   "pygments_lexer": "ipython3",
   "version": "3.9.2"
  },
  "orig_nbformat": 2,
  "kernelspec": {
   "name": "python392jvsc74a57bd0c3d5184c4b66895d208219d4d00a40650490df6cf3ed6a79c25046b559a288c9",
   "display_name": "Python 3.9.2 64-bit ('kaggle': conda)"
  }
 },
 "nbformat": 4,
 "nbformat_minor": 2,
 "cells": [
  {
   "cell_type": "code",
   "execution_count": 1,
   "metadata": {},
   "outputs": [],
   "source": [
    "%run before_to_start.ipynb"
   ]
  },
  {
   "cell_type": "code",
   "execution_count": 2,
   "metadata": {},
   "outputs": [],
   "source": [
    "import pandas as pd \n",
    "from saber.visualization.visualize import display_tables"
   ]
  },
  {
   "cell_type": "code",
   "execution_count": 3,
   "metadata": {},
   "outputs": [
    {
     "output_type": "display_data",
     "data": {
      "text/plain": "   codigo_icfes    estu_consecutivo pers_genero  pers_etnia  cod_muni_reside  \\\n0            18  SABER1120142534739           F       100.0           5001.0   \n1            18  SABER1120142094962           F       100.0           5001.0   \n2            18  SABER1120142337859           M       100.0           5001.0   \n3            18  SABER1120142502015           F       100.0           5001.0   \n4            18  SABER1120142075449           F       100.0           5001.0   \n\n  muni_reside depa_reside  zona_reside fins_tipoubicacion   codigo_dane  \\\n0    MEDELLIN   ANTIOQUIA            3                  U  305001004731   \n1    MEDELLIN   ANTIOQUIA            3                  U  305001004731   \n2    MEDELLIN   ANTIOQUIA            3                  U  305001004731   \n3    MEDELLIN   ANTIOQUIA            3                  U  305001004731   \n4    MEDELLIN   ANTIOQUIA            3                  U  305001004731   \n\n             nombre_sede  fins_valormensualpension  fins_repeticionexamen  \\\n0  COL ATENEO HORIZONTES                       6.0                    1.0   \n1  COL ATENEO HORIZONTES                       6.0                    1.0   \n2  COL ATENEO HORIZONTES                       6.0                    1.0   \n3  COL ATENEO HORIZONTES                       6.0                    1.0   \n4  COL ATENEO HORIZONTES                       6.0                    1.0   \n\n   cod_muni_apli muni_apli  depa_apli  fins_niveleducativopadre  \\\n0           5001  MEDELLIN  ANTIOQUIA                       8.0   \n1           5001  MEDELLIN  ANTIOQUIA                       4.0   \n2           5001  MEDELLIN  ANTIOQUIA                       5.0   \n3           5001  MEDELLIN  ANTIOQUIA                       9.0   \n4           5001  MEDELLIN  ANTIOQUIA                       5.0   \n\n   fins_niveleducativomadre  fins_ocupacionpadre  fins_ocupacionmadre  \n0                       7.0                  9.0                 10.0  \n1                       7.0                  9.0                  5.0  \n2                       8.0                  9.0                 10.0  \n3                       7.0                  9.0                  9.0  \n4                       5.0                  9.0                 10.0  ",
      "text/html": "<div>\n<style scoped>\n    .dataframe tbody tr th:only-of-type {\n        vertical-align: middle;\n    }\n\n    .dataframe tbody tr th {\n        vertical-align: top;\n    }\n\n    .dataframe thead th {\n        text-align: right;\n    }\n</style>\n<table border=\"1\" class=\"dataframe\">\n  <thead>\n    <tr style=\"text-align: right;\">\n      <th></th>\n      <th>codigo_icfes</th>\n      <th>estu_consecutivo</th>\n      <th>pers_genero</th>\n      <th>pers_etnia</th>\n      <th>cod_muni_reside</th>\n      <th>muni_reside</th>\n      <th>depa_reside</th>\n      <th>zona_reside</th>\n      <th>fins_tipoubicacion</th>\n      <th>codigo_dane</th>\n      <th>nombre_sede</th>\n      <th>fins_valormensualpension</th>\n      <th>fins_repeticionexamen</th>\n      <th>cod_muni_apli</th>\n      <th>muni_apli</th>\n      <th>depa_apli</th>\n      <th>fins_niveleducativopadre</th>\n      <th>fins_niveleducativomadre</th>\n      <th>fins_ocupacionpadre</th>\n      <th>fins_ocupacionmadre</th>\n    </tr>\n  </thead>\n  <tbody>\n    <tr>\n      <th>0</th>\n      <td>18</td>\n      <td>SABER1120142534739</td>\n      <td>F</td>\n      <td>100.0</td>\n      <td>5001.0</td>\n      <td>MEDELLIN</td>\n      <td>ANTIOQUIA</td>\n      <td>3</td>\n      <td>U</td>\n      <td>305001004731</td>\n      <td>COL ATENEO HORIZONTES</td>\n      <td>6.0</td>\n      <td>1.0</td>\n      <td>5001</td>\n      <td>MEDELLIN</td>\n      <td>ANTIOQUIA</td>\n      <td>8.0</td>\n      <td>7.0</td>\n      <td>9.0</td>\n      <td>10.0</td>\n    </tr>\n    <tr>\n      <th>1</th>\n      <td>18</td>\n      <td>SABER1120142094962</td>\n      <td>F</td>\n      <td>100.0</td>\n      <td>5001.0</td>\n      <td>MEDELLIN</td>\n      <td>ANTIOQUIA</td>\n      <td>3</td>\n      <td>U</td>\n      <td>305001004731</td>\n      <td>COL ATENEO HORIZONTES</td>\n      <td>6.0</td>\n      <td>1.0</td>\n      <td>5001</td>\n      <td>MEDELLIN</td>\n      <td>ANTIOQUIA</td>\n      <td>4.0</td>\n      <td>7.0</td>\n      <td>9.0</td>\n      <td>5.0</td>\n    </tr>\n    <tr>\n      <th>2</th>\n      <td>18</td>\n      <td>SABER1120142337859</td>\n      <td>M</td>\n      <td>100.0</td>\n      <td>5001.0</td>\n      <td>MEDELLIN</td>\n      <td>ANTIOQUIA</td>\n      <td>3</td>\n      <td>U</td>\n      <td>305001004731</td>\n      <td>COL ATENEO HORIZONTES</td>\n      <td>6.0</td>\n      <td>1.0</td>\n      <td>5001</td>\n      <td>MEDELLIN</td>\n      <td>ANTIOQUIA</td>\n      <td>5.0</td>\n      <td>8.0</td>\n      <td>9.0</td>\n      <td>10.0</td>\n    </tr>\n    <tr>\n      <th>3</th>\n      <td>18</td>\n      <td>SABER1120142502015</td>\n      <td>F</td>\n      <td>100.0</td>\n      <td>5001.0</td>\n      <td>MEDELLIN</td>\n      <td>ANTIOQUIA</td>\n      <td>3</td>\n      <td>U</td>\n      <td>305001004731</td>\n      <td>COL ATENEO HORIZONTES</td>\n      <td>6.0</td>\n      <td>1.0</td>\n      <td>5001</td>\n      <td>MEDELLIN</td>\n      <td>ANTIOQUIA</td>\n      <td>9.0</td>\n      <td>7.0</td>\n      <td>9.0</td>\n      <td>9.0</td>\n    </tr>\n    <tr>\n      <th>4</th>\n      <td>18</td>\n      <td>SABER1120142075449</td>\n      <td>F</td>\n      <td>100.0</td>\n      <td>5001.0</td>\n      <td>MEDELLIN</td>\n      <td>ANTIOQUIA</td>\n      <td>3</td>\n      <td>U</td>\n      <td>305001004731</td>\n      <td>COL ATENEO HORIZONTES</td>\n      <td>6.0</td>\n      <td>1.0</td>\n      <td>5001</td>\n      <td>MEDELLIN</td>\n      <td>ANTIOQUIA</td>\n      <td>5.0</td>\n      <td>5.0</td>\n      <td>9.0</td>\n      <td>10.0</td>\n    </tr>\n  </tbody>\n</table>\n</div>"
     },
     "metadata": {}
    },
    {
     "output_type": "display_data",
     "data": {
      "text/plain": "   fins_estratoviviendaenergia  fins_sisben  fins_personashogaractual  \\\n0                          4.0          5.0                       4.0   \n1                          4.0          5.0                       4.0   \n2                          4.0          5.0                       5.0   \n3                          4.0          5.0                       2.0   \n4                          5.0          5.0                       4.0   \n\n   fins_cuartoshogaractual  fins_pisoshogar fins_tienetelefonofijo  \\\n0                      3.0              4.0                      S   \n1                      3.0              4.0                      S   \n2                      3.0              4.0                      S   \n3                      2.0              4.0                      S   \n4                      2.0              4.0                      S   \n\n  fins_tienetelefonocelular fins_tieneinternet fins_tienetelevision  \\\n0                         S                  S                    S   \n1                         S                  S                    S   \n2                         S                  S                    S   \n3                         S                  S                    S   \n4                         S                  S                    S   \n\n  fins_tienecomputador fins_tienedvd fins_tienelavadoraropa  \\\n0                    S             S                      S   \n1                    S             S                      S   \n2                    S             S                      S   \n3                    S             S                      S   \n4                    S             S                      S   \n\n  fins_tienehornomicroondas fins_tienenevera fins_tieneautomovilparticular  \\\n0                         S                S                             N   \n1                         S                S                             S   \n2                         S                S                             S   \n3                         S                S                             S   \n4                         S                S                             N   \n\n  fins_tienehornoelectricogas  fins_ingresomensualhogar  \\\n0                           S                       2.0   \n1                           S                       5.0   \n2                           S                       4.0   \n3                           S                       2.0   \n4                           S                       2.0   \n\n   fins_trabajaactualmente  eval_puesto  lectura_critica_punt  \n0                      1.0          618                    55  \n1                      1.0           54                    63  \n2                      1.0          166                    61  \n3                      1.0          637                    51  \n4                      1.0           77                    63  ",
      "text/html": "<div>\n<style scoped>\n    .dataframe tbody tr th:only-of-type {\n        vertical-align: middle;\n    }\n\n    .dataframe tbody tr th {\n        vertical-align: top;\n    }\n\n    .dataframe thead th {\n        text-align: right;\n    }\n</style>\n<table border=\"1\" class=\"dataframe\">\n  <thead>\n    <tr style=\"text-align: right;\">\n      <th></th>\n      <th>fins_estratoviviendaenergia</th>\n      <th>fins_sisben</th>\n      <th>fins_personashogaractual</th>\n      <th>fins_cuartoshogaractual</th>\n      <th>fins_pisoshogar</th>\n      <th>fins_tienetelefonofijo</th>\n      <th>fins_tienetelefonocelular</th>\n      <th>fins_tieneinternet</th>\n      <th>fins_tienetelevision</th>\n      <th>fins_tienecomputador</th>\n      <th>fins_tienedvd</th>\n      <th>fins_tienelavadoraropa</th>\n      <th>fins_tienehornomicroondas</th>\n      <th>fins_tienenevera</th>\n      <th>fins_tieneautomovilparticular</th>\n      <th>fins_tienehornoelectricogas</th>\n      <th>fins_ingresomensualhogar</th>\n      <th>fins_trabajaactualmente</th>\n      <th>eval_puesto</th>\n      <th>lectura_critica_punt</th>\n    </tr>\n  </thead>\n  <tbody>\n    <tr>\n      <th>0</th>\n      <td>4.0</td>\n      <td>5.0</td>\n      <td>4.0</td>\n      <td>3.0</td>\n      <td>4.0</td>\n      <td>S</td>\n      <td>S</td>\n      <td>S</td>\n      <td>S</td>\n      <td>S</td>\n      <td>S</td>\n      <td>S</td>\n      <td>S</td>\n      <td>S</td>\n      <td>N</td>\n      <td>S</td>\n      <td>2.0</td>\n      <td>1.0</td>\n      <td>618</td>\n      <td>55</td>\n    </tr>\n    <tr>\n      <th>1</th>\n      <td>4.0</td>\n      <td>5.0</td>\n      <td>4.0</td>\n      <td>3.0</td>\n      <td>4.0</td>\n      <td>S</td>\n      <td>S</td>\n      <td>S</td>\n      <td>S</td>\n      <td>S</td>\n      <td>S</td>\n      <td>S</td>\n      <td>S</td>\n      <td>S</td>\n      <td>S</td>\n      <td>S</td>\n      <td>5.0</td>\n      <td>1.0</td>\n      <td>54</td>\n      <td>63</td>\n    </tr>\n    <tr>\n      <th>2</th>\n      <td>4.0</td>\n      <td>5.0</td>\n      <td>5.0</td>\n      <td>3.0</td>\n      <td>4.0</td>\n      <td>S</td>\n      <td>S</td>\n      <td>S</td>\n      <td>S</td>\n      <td>S</td>\n      <td>S</td>\n      <td>S</td>\n      <td>S</td>\n      <td>S</td>\n      <td>S</td>\n      <td>S</td>\n      <td>4.0</td>\n      <td>1.0</td>\n      <td>166</td>\n      <td>61</td>\n    </tr>\n    <tr>\n      <th>3</th>\n      <td>4.0</td>\n      <td>5.0</td>\n      <td>2.0</td>\n      <td>2.0</td>\n      <td>4.0</td>\n      <td>S</td>\n      <td>S</td>\n      <td>S</td>\n      <td>S</td>\n      <td>S</td>\n      <td>S</td>\n      <td>S</td>\n      <td>S</td>\n      <td>S</td>\n      <td>S</td>\n      <td>S</td>\n      <td>2.0</td>\n      <td>1.0</td>\n      <td>637</td>\n      <td>51</td>\n    </tr>\n    <tr>\n      <th>4</th>\n      <td>5.0</td>\n      <td>5.0</td>\n      <td>4.0</td>\n      <td>2.0</td>\n      <td>4.0</td>\n      <td>S</td>\n      <td>S</td>\n      <td>S</td>\n      <td>S</td>\n      <td>S</td>\n      <td>S</td>\n      <td>S</td>\n      <td>S</td>\n      <td>S</td>\n      <td>N</td>\n      <td>S</td>\n      <td>2.0</td>\n      <td>1.0</td>\n      <td>77</td>\n      <td>63</td>\n    </tr>\n  </tbody>\n</table>\n</div>"
     },
     "metadata": {}
    },
    {
     "output_type": "display_data",
     "data": {
      "text/plain": "   matematicas_punt  sociales_ciudadanas_punt  ciencias_naturales_punt  \\\n0                47                        42                       41   \n1                69                        59                       69   \n2                59                        56                       54   \n3                50                        47                       38   \n4                56                        61                       64   \n\n   ingles_punt  naturaleza departamento  total  borde  \\\n0           52  NO OFICIAL    ANTIOQUIA    233  False   \n1           66  NO OFICIAL    ANTIOQUIA    325   True   \n2           67  NO OFICIAL    ANTIOQUIA    291  False   \n3           44  NO OFICIAL    ANTIOQUIA    232  False   \n4           88  NO OFICIAL    ANTIOQUIA    315   True   \n\n   disc_condicion_especial_CE  dis_motriz_MOT  disc_invidente_VIS  \\\n0                           0               0                   0   \n1                           0               0                   0   \n2                           0               0                   0   \n3                           0               0                   0   \n4                           0               0                   0   \n\n   disc_sordo_AUD  disc_sdown_SD  disc_autismo_AA  jornada_C  jornada_M  \\\n0               0              0                0          1          0   \n1               0              0                0          1          0   \n2               0              0                0          1          0   \n3               0              0                0          1          0   \n4               0              0                0          1          0   \n\n   jornada_N  jornada_S  jornada_T  ingles_desem_A-  \n0          0          0          0                0  \n1          0          0          0                0  \n2          0          0          0                0  \n3          0          0          0                1  \n4          0          0          0                0  ",
      "text/html": "<div>\n<style scoped>\n    .dataframe tbody tr th:only-of-type {\n        vertical-align: middle;\n    }\n\n    .dataframe tbody tr th {\n        vertical-align: top;\n    }\n\n    .dataframe thead th {\n        text-align: right;\n    }\n</style>\n<table border=\"1\" class=\"dataframe\">\n  <thead>\n    <tr style=\"text-align: right;\">\n      <th></th>\n      <th>matematicas_punt</th>\n      <th>sociales_ciudadanas_punt</th>\n      <th>ciencias_naturales_punt</th>\n      <th>ingles_punt</th>\n      <th>naturaleza</th>\n      <th>departamento</th>\n      <th>total</th>\n      <th>borde</th>\n      <th>disc_condicion_especial_CE</th>\n      <th>dis_motriz_MOT</th>\n      <th>disc_invidente_VIS</th>\n      <th>disc_sordo_AUD</th>\n      <th>disc_sdown_SD</th>\n      <th>disc_autismo_AA</th>\n      <th>jornada_C</th>\n      <th>jornada_M</th>\n      <th>jornada_N</th>\n      <th>jornada_S</th>\n      <th>jornada_T</th>\n      <th>ingles_desem_A-</th>\n    </tr>\n  </thead>\n  <tbody>\n    <tr>\n      <th>0</th>\n      <td>47</td>\n      <td>42</td>\n      <td>41</td>\n      <td>52</td>\n      <td>NO OFICIAL</td>\n      <td>ANTIOQUIA</td>\n      <td>233</td>\n      <td>False</td>\n      <td>0</td>\n      <td>0</td>\n      <td>0</td>\n      <td>0</td>\n      <td>0</td>\n      <td>0</td>\n      <td>1</td>\n      <td>0</td>\n      <td>0</td>\n      <td>0</td>\n      <td>0</td>\n      <td>0</td>\n    </tr>\n    <tr>\n      <th>1</th>\n      <td>69</td>\n      <td>59</td>\n      <td>69</td>\n      <td>66</td>\n      <td>NO OFICIAL</td>\n      <td>ANTIOQUIA</td>\n      <td>325</td>\n      <td>True</td>\n      <td>0</td>\n      <td>0</td>\n      <td>0</td>\n      <td>0</td>\n      <td>0</td>\n      <td>0</td>\n      <td>1</td>\n      <td>0</td>\n      <td>0</td>\n      <td>0</td>\n      <td>0</td>\n      <td>0</td>\n    </tr>\n    <tr>\n      <th>2</th>\n      <td>59</td>\n      <td>56</td>\n      <td>54</td>\n      <td>67</td>\n      <td>NO OFICIAL</td>\n      <td>ANTIOQUIA</td>\n      <td>291</td>\n      <td>False</td>\n      <td>0</td>\n      <td>0</td>\n      <td>0</td>\n      <td>0</td>\n      <td>0</td>\n      <td>0</td>\n      <td>1</td>\n      <td>0</td>\n      <td>0</td>\n      <td>0</td>\n      <td>0</td>\n      <td>0</td>\n    </tr>\n    <tr>\n      <th>3</th>\n      <td>50</td>\n      <td>47</td>\n      <td>38</td>\n      <td>44</td>\n      <td>NO OFICIAL</td>\n      <td>ANTIOQUIA</td>\n      <td>232</td>\n      <td>False</td>\n      <td>0</td>\n      <td>0</td>\n      <td>0</td>\n      <td>0</td>\n      <td>0</td>\n      <td>0</td>\n      <td>1</td>\n      <td>0</td>\n      <td>0</td>\n      <td>0</td>\n      <td>0</td>\n      <td>1</td>\n    </tr>\n    <tr>\n      <th>4</th>\n      <td>56</td>\n      <td>61</td>\n      <td>64</td>\n      <td>88</td>\n      <td>NO OFICIAL</td>\n      <td>ANTIOQUIA</td>\n      <td>315</td>\n      <td>True</td>\n      <td>0</td>\n      <td>0</td>\n      <td>0</td>\n      <td>0</td>\n      <td>0</td>\n      <td>0</td>\n      <td>1</td>\n      <td>0</td>\n      <td>0</td>\n      <td>0</td>\n      <td>0</td>\n      <td>0</td>\n    </tr>\n  </tbody>\n</table>\n</div>"
     },
     "metadata": {}
    },
    {
     "output_type": "display_data",
     "data": {
      "text/plain": "   ingles_desem_A1  ingles_desem_A2  ingles_desem_B+  ingles_desem_B1  \\\n0                1                0                0                0   \n1                0                1                0                0   \n2                0                1                0                0   \n3                0                0                0                0   \n4                0                0                1                0   \n\n   pers_age  \n0        22  \n1        23  \n2        23  \n3        26  \n4        25  ",
      "text/html": "<div>\n<style scoped>\n    .dataframe tbody tr th:only-of-type {\n        vertical-align: middle;\n    }\n\n    .dataframe tbody tr th {\n        vertical-align: top;\n    }\n\n    .dataframe thead th {\n        text-align: right;\n    }\n</style>\n<table border=\"1\" class=\"dataframe\">\n  <thead>\n    <tr style=\"text-align: right;\">\n      <th></th>\n      <th>ingles_desem_A1</th>\n      <th>ingles_desem_A2</th>\n      <th>ingles_desem_B+</th>\n      <th>ingles_desem_B1</th>\n      <th>pers_age</th>\n    </tr>\n  </thead>\n  <tbody>\n    <tr>\n      <th>0</th>\n      <td>1</td>\n      <td>0</td>\n      <td>0</td>\n      <td>0</td>\n      <td>22</td>\n    </tr>\n    <tr>\n      <th>1</th>\n      <td>0</td>\n      <td>1</td>\n      <td>0</td>\n      <td>0</td>\n      <td>23</td>\n    </tr>\n    <tr>\n      <th>2</th>\n      <td>0</td>\n      <td>1</td>\n      <td>0</td>\n      <td>0</td>\n      <td>23</td>\n    </tr>\n    <tr>\n      <th>3</th>\n      <td>0</td>\n      <td>0</td>\n      <td>0</td>\n      <td>0</td>\n      <td>26</td>\n    </tr>\n    <tr>\n      <th>4</th>\n      <td>0</td>\n      <td>0</td>\n      <td>1</td>\n      <td>0</td>\n      <td>25</td>\n    </tr>\n  </tbody>\n</table>\n</div>"
     },
     "metadata": {}
    }
   ],
   "source": [
    "saber_df = pd.read_csv(data_interim_dir('saber.csv'),\n",
    "                       dtype={'codigo_dane': 'object'})\n",
    "                       \n",
    "saber_df.display_tables()"
   ]
  },
  {
   "cell_type": "code",
   "execution_count": 4,
   "metadata": {},
   "outputs": [],
   "source": [
    "categorical_cols = [column for column in saber_df.columns if\n",
    "                        saber_df[column].nunique() == 2 and\n",
    "                        saber_df[column].dtype == 'object']"
   ]
  },
  {
   "cell_type": "code",
   "execution_count": 5,
   "metadata": {},
   "outputs": [
    {
     "output_type": "execute_result",
     "data": {
      "text/plain": [
       "       pers_genero fins_tipoubicacion fins_tienetelefonofijo  \\\n",
       "0                F                  U                      S   \n",
       "1                F                  U                      S   \n",
       "2                M                  U                      S   \n",
       "3                F                  U                      S   \n",
       "4                F                  U                      S   \n",
       "...            ...                ...                    ...   \n",
       "540455           F                  U                      N   \n",
       "540456           F                  U                      S   \n",
       "540457           M                  U                      S   \n",
       "540458           M                  U                      S   \n",
       "540459           F                  U                      N   \n",
       "\n",
       "       fins_tienetelefonocelular fins_tieneinternet fins_tienetelevision  \\\n",
       "0                              S                  S                    S   \n",
       "1                              S                  S                    S   \n",
       "2                              S                  S                    S   \n",
       "3                              S                  S                    S   \n",
       "4                              S                  S                    S   \n",
       "...                          ...                ...                  ...   \n",
       "540455                         S                  S                    S   \n",
       "540456                         S                  S                    S   \n",
       "540457                         S                  S                    S   \n",
       "540458                         N                  S                    N   \n",
       "540459                         N                  N                    N   \n",
       "\n",
       "       fins_tienecomputador fins_tienedvd fins_tienelavadoraropa  \\\n",
       "0                         S             S                      S   \n",
       "1                         S             S                      S   \n",
       "2                         S             S                      S   \n",
       "3                         S             S                      S   \n",
       "4                         S             S                      S   \n",
       "...                     ...           ...                    ...   \n",
       "540455                    S             S                      S   \n",
       "540456                    S             S                      S   \n",
       "540457                    S             S                      S   \n",
       "540458                    S             S                      S   \n",
       "540459                    N             N                      N   \n",
       "\n",
       "       fins_tienehornomicroondas fins_tienenevera  \\\n",
       "0                              S                S   \n",
       "1                              S                S   \n",
       "2                              S                S   \n",
       "3                              S                S   \n",
       "4                              S                S   \n",
       "...                          ...              ...   \n",
       "540455                         S                S   \n",
       "540456                         S                S   \n",
       "540457                         S                S   \n",
       "540458                         S                S   \n",
       "540459                         N                S   \n",
       "\n",
       "       fins_tieneautomovilparticular fins_tienehornoelectricogas  naturaleza  \n",
       "0                                  N                           S  NO OFICIAL  \n",
       "1                                  S                           S  NO OFICIAL  \n",
       "2                                  S                           S  NO OFICIAL  \n",
       "3                                  S                           S  NO OFICIAL  \n",
       "4                                  N                           S  NO OFICIAL  \n",
       "...                              ...                         ...         ...  \n",
       "540455                             N                           S     OFICIAL  \n",
       "540456                             N                           S     OFICIAL  \n",
       "540457                             N                           S     OFICIAL  \n",
       "540458                             N                           S     OFICIAL  \n",
       "540459                             N                           N     OFICIAL  \n",
       "\n",
       "[540460 rows x 14 columns]"
      ],
      "text/html": "<div>\n<style scoped>\n    .dataframe tbody tr th:only-of-type {\n        vertical-align: middle;\n    }\n\n    .dataframe tbody tr th {\n        vertical-align: top;\n    }\n\n    .dataframe thead th {\n        text-align: right;\n    }\n</style>\n<table border=\"1\" class=\"dataframe\">\n  <thead>\n    <tr style=\"text-align: right;\">\n      <th></th>\n      <th>pers_genero</th>\n      <th>fins_tipoubicacion</th>\n      <th>fins_tienetelefonofijo</th>\n      <th>fins_tienetelefonocelular</th>\n      <th>fins_tieneinternet</th>\n      <th>fins_tienetelevision</th>\n      <th>fins_tienecomputador</th>\n      <th>fins_tienedvd</th>\n      <th>fins_tienelavadoraropa</th>\n      <th>fins_tienehornomicroondas</th>\n      <th>fins_tienenevera</th>\n      <th>fins_tieneautomovilparticular</th>\n      <th>fins_tienehornoelectricogas</th>\n      <th>naturaleza</th>\n    </tr>\n  </thead>\n  <tbody>\n    <tr>\n      <th>0</th>\n      <td>F</td>\n      <td>U</td>\n      <td>S</td>\n      <td>S</td>\n      <td>S</td>\n      <td>S</td>\n      <td>S</td>\n      <td>S</td>\n      <td>S</td>\n      <td>S</td>\n      <td>S</td>\n      <td>N</td>\n      <td>S</td>\n      <td>NO OFICIAL</td>\n    </tr>\n    <tr>\n      <th>1</th>\n      <td>F</td>\n      <td>U</td>\n      <td>S</td>\n      <td>S</td>\n      <td>S</td>\n      <td>S</td>\n      <td>S</td>\n      <td>S</td>\n      <td>S</td>\n      <td>S</td>\n      <td>S</td>\n      <td>S</td>\n      <td>S</td>\n      <td>NO OFICIAL</td>\n    </tr>\n    <tr>\n      <th>2</th>\n      <td>M</td>\n      <td>U</td>\n      <td>S</td>\n      <td>S</td>\n      <td>S</td>\n      <td>S</td>\n      <td>S</td>\n      <td>S</td>\n      <td>S</td>\n      <td>S</td>\n      <td>S</td>\n      <td>S</td>\n      <td>S</td>\n      <td>NO OFICIAL</td>\n    </tr>\n    <tr>\n      <th>3</th>\n      <td>F</td>\n      <td>U</td>\n      <td>S</td>\n      <td>S</td>\n      <td>S</td>\n      <td>S</td>\n      <td>S</td>\n      <td>S</td>\n      <td>S</td>\n      <td>S</td>\n      <td>S</td>\n      <td>S</td>\n      <td>S</td>\n      <td>NO OFICIAL</td>\n    </tr>\n    <tr>\n      <th>4</th>\n      <td>F</td>\n      <td>U</td>\n      <td>S</td>\n      <td>S</td>\n      <td>S</td>\n      <td>S</td>\n      <td>S</td>\n      <td>S</td>\n      <td>S</td>\n      <td>S</td>\n      <td>S</td>\n      <td>N</td>\n      <td>S</td>\n      <td>NO OFICIAL</td>\n    </tr>\n    <tr>\n      <th>...</th>\n      <td>...</td>\n      <td>...</td>\n      <td>...</td>\n      <td>...</td>\n      <td>...</td>\n      <td>...</td>\n      <td>...</td>\n      <td>...</td>\n      <td>...</td>\n      <td>...</td>\n      <td>...</td>\n      <td>...</td>\n      <td>...</td>\n      <td>...</td>\n    </tr>\n    <tr>\n      <th>540455</th>\n      <td>F</td>\n      <td>U</td>\n      <td>N</td>\n      <td>S</td>\n      <td>S</td>\n      <td>S</td>\n      <td>S</td>\n      <td>S</td>\n      <td>S</td>\n      <td>S</td>\n      <td>S</td>\n      <td>N</td>\n      <td>S</td>\n      <td>OFICIAL</td>\n    </tr>\n    <tr>\n      <th>540456</th>\n      <td>F</td>\n      <td>U</td>\n      <td>S</td>\n      <td>S</td>\n      <td>S</td>\n      <td>S</td>\n      <td>S</td>\n      <td>S</td>\n      <td>S</td>\n      <td>S</td>\n      <td>S</td>\n      <td>N</td>\n      <td>S</td>\n      <td>OFICIAL</td>\n    </tr>\n    <tr>\n      <th>540457</th>\n      <td>M</td>\n      <td>U</td>\n      <td>S</td>\n      <td>S</td>\n      <td>S</td>\n      <td>S</td>\n      <td>S</td>\n      <td>S</td>\n      <td>S</td>\n      <td>S</td>\n      <td>S</td>\n      <td>N</td>\n      <td>S</td>\n      <td>OFICIAL</td>\n    </tr>\n    <tr>\n      <th>540458</th>\n      <td>M</td>\n      <td>U</td>\n      <td>S</td>\n      <td>N</td>\n      <td>S</td>\n      <td>N</td>\n      <td>S</td>\n      <td>S</td>\n      <td>S</td>\n      <td>S</td>\n      <td>S</td>\n      <td>N</td>\n      <td>S</td>\n      <td>OFICIAL</td>\n    </tr>\n    <tr>\n      <th>540459</th>\n      <td>F</td>\n      <td>U</td>\n      <td>N</td>\n      <td>N</td>\n      <td>N</td>\n      <td>N</td>\n      <td>N</td>\n      <td>N</td>\n      <td>N</td>\n      <td>N</td>\n      <td>S</td>\n      <td>N</td>\n      <td>N</td>\n      <td>OFICIAL</td>\n    </tr>\n  </tbody>\n</table>\n<p>540460 rows × 14 columns</p>\n</div>"
     },
     "metadata": {},
     "execution_count": 5
    }
   ],
   "source": [
    "saber_df[categorical_cols]"
   ]
  },
  {
   "cell_type": "code",
   "execution_count": 6,
   "metadata": {},
   "outputs": [
    {
     "output_type": "execute_result",
     "data": {
      "text/plain": [
       "        pers_genero  fins_tipoubicacion  fins_tienetelefonofijo  \\\n",
       "0                 0                   1                       1   \n",
       "1                 0                   1                       1   \n",
       "2                 1                   1                       1   \n",
       "3                 0                   1                       1   \n",
       "4                 0                   1                       1   \n",
       "...             ...                 ...                     ...   \n",
       "540455            0                   1                       0   \n",
       "540456            0                   1                       1   \n",
       "540457            1                   1                       1   \n",
       "540458            1                   1                       1   \n",
       "540459            0                   1                       0   \n",
       "\n",
       "        fins_tienetelefonocelular  fins_tieneinternet  fins_tienetelevision  \\\n",
       "0                               1                   1                     1   \n",
       "1                               1                   1                     1   \n",
       "2                               1                   1                     1   \n",
       "3                               1                   1                     1   \n",
       "4                               1                   1                     1   \n",
       "...                           ...                 ...                   ...   \n",
       "540455                          1                   1                     1   \n",
       "540456                          1                   1                     1   \n",
       "540457                          1                   1                     1   \n",
       "540458                          0                   1                     0   \n",
       "540459                          0                   0                     0   \n",
       "\n",
       "        fins_tienecomputador  fins_tienedvd  fins_tienelavadoraropa  \\\n",
       "0                          1              1                       1   \n",
       "1                          1              1                       1   \n",
       "2                          1              1                       1   \n",
       "3                          1              1                       1   \n",
       "4                          1              1                       1   \n",
       "...                      ...            ...                     ...   \n",
       "540455                     1              1                       1   \n",
       "540456                     1              1                       1   \n",
       "540457                     1              1                       1   \n",
       "540458                     1              1                       1   \n",
       "540459                     0              0                       0   \n",
       "\n",
       "        fins_tienehornomicroondas  fins_tienenevera  \\\n",
       "0                               1                 1   \n",
       "1                               1                 1   \n",
       "2                               1                 1   \n",
       "3                               1                 1   \n",
       "4                               1                 1   \n",
       "...                           ...               ...   \n",
       "540455                          1                 1   \n",
       "540456                          1                 1   \n",
       "540457                          1                 1   \n",
       "540458                          1                 1   \n",
       "540459                          0                 1   \n",
       "\n",
       "        fins_tieneautomovilparticular  fins_tienehornoelectricogas  naturaleza  \n",
       "0                                   0                            1           0  \n",
       "1                                   1                            1           0  \n",
       "2                                   1                            1           0  \n",
       "3                                   1                            1           0  \n",
       "4                                   0                            1           0  \n",
       "...                               ...                          ...         ...  \n",
       "540455                              0                            1           1  \n",
       "540456                              0                            1           1  \n",
       "540457                              0                            1           1  \n",
       "540458                              0                            1           1  \n",
       "540459                              0                            0           1  \n",
       "\n",
       "[540460 rows x 14 columns]"
      ],
      "text/html": "<div>\n<style scoped>\n    .dataframe tbody tr th:only-of-type {\n        vertical-align: middle;\n    }\n\n    .dataframe tbody tr th {\n        vertical-align: top;\n    }\n\n    .dataframe thead th {\n        text-align: right;\n    }\n</style>\n<table border=\"1\" class=\"dataframe\">\n  <thead>\n    <tr style=\"text-align: right;\">\n      <th></th>\n      <th>pers_genero</th>\n      <th>fins_tipoubicacion</th>\n      <th>fins_tienetelefonofijo</th>\n      <th>fins_tienetelefonocelular</th>\n      <th>fins_tieneinternet</th>\n      <th>fins_tienetelevision</th>\n      <th>fins_tienecomputador</th>\n      <th>fins_tienedvd</th>\n      <th>fins_tienelavadoraropa</th>\n      <th>fins_tienehornomicroondas</th>\n      <th>fins_tienenevera</th>\n      <th>fins_tieneautomovilparticular</th>\n      <th>fins_tienehornoelectricogas</th>\n      <th>naturaleza</th>\n    </tr>\n  </thead>\n  <tbody>\n    <tr>\n      <th>0</th>\n      <td>0</td>\n      <td>1</td>\n      <td>1</td>\n      <td>1</td>\n      <td>1</td>\n      <td>1</td>\n      <td>1</td>\n      <td>1</td>\n      <td>1</td>\n      <td>1</td>\n      <td>1</td>\n      <td>0</td>\n      <td>1</td>\n      <td>0</td>\n    </tr>\n    <tr>\n      <th>1</th>\n      <td>0</td>\n      <td>1</td>\n      <td>1</td>\n      <td>1</td>\n      <td>1</td>\n      <td>1</td>\n      <td>1</td>\n      <td>1</td>\n      <td>1</td>\n      <td>1</td>\n      <td>1</td>\n      <td>1</td>\n      <td>1</td>\n      <td>0</td>\n    </tr>\n    <tr>\n      <th>2</th>\n      <td>1</td>\n      <td>1</td>\n      <td>1</td>\n      <td>1</td>\n      <td>1</td>\n      <td>1</td>\n      <td>1</td>\n      <td>1</td>\n      <td>1</td>\n      <td>1</td>\n      <td>1</td>\n      <td>1</td>\n      <td>1</td>\n      <td>0</td>\n    </tr>\n    <tr>\n      <th>3</th>\n      <td>0</td>\n      <td>1</td>\n      <td>1</td>\n      <td>1</td>\n      <td>1</td>\n      <td>1</td>\n      <td>1</td>\n      <td>1</td>\n      <td>1</td>\n      <td>1</td>\n      <td>1</td>\n      <td>1</td>\n      <td>1</td>\n      <td>0</td>\n    </tr>\n    <tr>\n      <th>4</th>\n      <td>0</td>\n      <td>1</td>\n      <td>1</td>\n      <td>1</td>\n      <td>1</td>\n      <td>1</td>\n      <td>1</td>\n      <td>1</td>\n      <td>1</td>\n      <td>1</td>\n      <td>1</td>\n      <td>0</td>\n      <td>1</td>\n      <td>0</td>\n    </tr>\n    <tr>\n      <th>...</th>\n      <td>...</td>\n      <td>...</td>\n      <td>...</td>\n      <td>...</td>\n      <td>...</td>\n      <td>...</td>\n      <td>...</td>\n      <td>...</td>\n      <td>...</td>\n      <td>...</td>\n      <td>...</td>\n      <td>...</td>\n      <td>...</td>\n      <td>...</td>\n    </tr>\n    <tr>\n      <th>540455</th>\n      <td>0</td>\n      <td>1</td>\n      <td>0</td>\n      <td>1</td>\n      <td>1</td>\n      <td>1</td>\n      <td>1</td>\n      <td>1</td>\n      <td>1</td>\n      <td>1</td>\n      <td>1</td>\n      <td>0</td>\n      <td>1</td>\n      <td>1</td>\n    </tr>\n    <tr>\n      <th>540456</th>\n      <td>0</td>\n      <td>1</td>\n      <td>1</td>\n      <td>1</td>\n      <td>1</td>\n      <td>1</td>\n      <td>1</td>\n      <td>1</td>\n      <td>1</td>\n      <td>1</td>\n      <td>1</td>\n      <td>0</td>\n      <td>1</td>\n      <td>1</td>\n    </tr>\n    <tr>\n      <th>540457</th>\n      <td>1</td>\n      <td>1</td>\n      <td>1</td>\n      <td>1</td>\n      <td>1</td>\n      <td>1</td>\n      <td>1</td>\n      <td>1</td>\n      <td>1</td>\n      <td>1</td>\n      <td>1</td>\n      <td>0</td>\n      <td>1</td>\n      <td>1</td>\n    </tr>\n    <tr>\n      <th>540458</th>\n      <td>1</td>\n      <td>1</td>\n      <td>1</td>\n      <td>0</td>\n      <td>1</td>\n      <td>0</td>\n      <td>1</td>\n      <td>1</td>\n      <td>1</td>\n      <td>1</td>\n      <td>1</td>\n      <td>0</td>\n      <td>1</td>\n      <td>1</td>\n    </tr>\n    <tr>\n      <th>540459</th>\n      <td>0</td>\n      <td>1</td>\n      <td>0</td>\n      <td>0</td>\n      <td>0</td>\n      <td>0</td>\n      <td>0</td>\n      <td>0</td>\n      <td>0</td>\n      <td>0</td>\n      <td>1</td>\n      <td>0</td>\n      <td>0</td>\n      <td>1</td>\n    </tr>\n  </tbody>\n</table>\n<p>540460 rows × 14 columns</p>\n</div>"
     },
     "metadata": {},
     "execution_count": 6
    }
   ],
   "source": [
    "from saber.data.preprocessing import _binary_label_encoder\n",
    "\n",
    "saber_df_encoded = saber_df._binary_label_encoder()\n",
    "saber_df_encoded[categorical_cols]"
   ]
  },
  {
   "cell_type": "code",
   "execution_count": 9,
   "metadata": {},
   "outputs": [],
   "source": [
    "saber_df_encoded.to_csv(data_processed_dir('saber.csv'), index=False)"
   ]
  }
 ]
}