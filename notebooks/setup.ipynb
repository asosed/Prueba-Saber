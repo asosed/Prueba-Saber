{
 "metadata": {
  "language_info": {
   "codemirror_mode": {
    "name": "ipython",
    "version": 3
   },
   "file_extension": ".py",
   "mimetype": "text/x-python",
   "name": "python",
   "nbconvert_exporter": "python",
   "pygments_lexer": "ipython3",
   "version": "3.9.2"
  },
  "orig_nbformat": 2,
  "kernelspec": {
   "name": "python392jvsc74a57bd0c3d5184c4b66895d208219d4d00a40650490df6cf3ed6a79c25046b559a288c9",
   "display_name": "Python 3.9.2 64-bit ('kaggle': conda)"
  }
 },
 "nbformat": 4,
 "nbformat_minor": 2,
 "cells": [
  {
   "cell_type": "code",
   "execution_count": 3,
   "metadata": {},
   "outputs": [],
   "source": [
    "from pyhere import here"
   ]
  },
  {
   "cell_type": "code",
   "execution_count": 4,
   "metadata": {},
   "outputs": [
    {
     "output_type": "stream",
     "name": "stdout",
     "text": [
      "Obtaining file:///home/asosed/projects/Data-Science/Prueba-Saber\n",
      "Installing collected packages: saber\n",
      "  Attempting uninstall: saber\n",
      "    Found existing installation: saber 0.1.0\n",
      "    Uninstalling saber-0.1.0:\n",
      "      Successfully uninstalled saber-0.1.0\n",
      "  Running setup.py develop for saber\n",
      "Successfully installed saber\n"
     ]
    }
   ],
   "source": [
    "!pip install --editable {here()}"
   ]
  },
  {
   "cell_type": "code",
   "execution_count": null,
   "metadata": {},
   "outputs": [],
   "source": []
  }
 ]
}