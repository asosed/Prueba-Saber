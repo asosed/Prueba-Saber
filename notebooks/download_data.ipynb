{
 "metadata": {
  "language_info": {
   "codemirror_mode": {
    "name": "ipython",
    "version": 3
   },
   "file_extension": ".py",
   "mimetype": "text/x-python",
   "name": "python",
   "nbconvert_exporter": "python",
   "pygments_lexer": "ipython3",
   "version": "3.9.2"
  },
  "orig_nbformat": 2,
  "kernelspec": {
   "name": "python392jvsc74a57bd0c3d5184c4b66895d208219d4d00a40650490df6cf3ed6a79c25046b559a288c9",
   "display_name": "Python 3.9.2 64-bit ('kaggle': conda)"
  }
 },
 "nbformat": 4,
 "nbformat_minor": 2,
 "cells": [
  {
   "cell_type": "code",
   "execution_count": 15,
   "metadata": {},
   "outputs": [],
   "source": [
    "from saber.utils.paths import *"
   ]
  },
  {
   "cell_type": "code",
   "execution_count": 16,
   "metadata": {},
   "outputs": [
    {
     "output_type": "stream",
     "name": "stdout",
     "text": [
      "  % Total    % Received % Xferd  Average Speed   Time    Time     Time  Current\n",
      "                                 Dload  Upload   Total   Spent    Left  Speed\n",
      "100   146  100   146    0     0    396      0 --:--:-- --:--:-- --:--:--   396\n",
      "100 18.1M  100 18.1M    0     0  2529k      0  0:00:07  0:00:07 --:--:-- 3738k\n",
      "tabla.saber.2014.csv\n"
     ]
    }
   ],
   "source": [
    "!curl -LJo {data_raw_dir('saber.tar.gz')} https://github.com/finiterank/saber2014/raw/master/tabla.saber.tar.gz\n",
    "\n",
    "!tar -xvf {data_raw_dir('saber.tar.gz')} -C {data_raw_dir()}\n",
    "!rm {data_raw_dir('saber.tar.gz')}"
   ]
  }
 ]
}